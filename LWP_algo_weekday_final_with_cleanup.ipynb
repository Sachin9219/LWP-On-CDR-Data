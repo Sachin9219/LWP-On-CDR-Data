{
 "cells": [
  {
   "cell_type": "markdown",
   "metadata": {},
   "source": [
    "# LWP Algorithm"
   ]
  },
  {
   "cell_type": "code",
   "execution_count": 1,
   "metadata": {},
   "outputs": [],
   "source": [
    "#import timeit\n",
    "#start = timeit.default_timer()\n",
    "# All the program statements"
   ]
  },
  {
   "cell_type": "code",
   "execution_count": 2,
   "metadata": {},
   "outputs": [],
   "source": [
    "import pandas as pd \n",
    "import numpy as np\n",
    "import warnings\n",
    "warnings.filterwarnings(\"ignore\")\n",
    "pd.set_option('display.max_colwidth', -1)\n",
    "pd.options.display.float_format = '{:,.2f}'.format\n",
    "pd.set_option('display.max_columns', None)\n",
    "pd.set_option('display.width', None)\n",
    "pd.set_option('display.max_colwidth', None)"
   ]
  },
  {
   "cell_type": "code",
   "execution_count": 3,
   "metadata": {},
   "outputs": [],
   "source": [
    "from math import radians, cos, sin, asin, sqrt\n",
    "def haversine(lon1, lat1, lon2, lat2):\n",
    "\n",
    "    # convert decimal degrees to radians \n",
    "    lon1, lat1, lon2, lat2 = map(radians, [lon1, lat1, lon2, lat2])\n",
    "    \n",
    "    # haversine formula \n",
    "    dlon = lon2 - lon1 \n",
    "    dlat = lat2 - lat1 \n",
    "    a = sin(dlat/2)**2 + cos(lat1) * cos(lat2) * sin(dlon/2)**2\n",
    "    c = 2 * asin(sqrt(a)) \n",
    "    r = 6371 # Radius of earth in kilometers. Use 3956 for miles\n",
    "    return c * r"
   ]
  },
  {
   "cell_type": "markdown",
   "metadata": {},
   "source": [
    "## Input values\n",
    "\n",
    "#### Distance & Speed are tunable "
   ]
  },
  {
   "cell_type": "code",
   "execution_count": 4,
   "metadata": {},
   "outputs": [],
   "source": [
    "speed_check    = 4\n",
    "distance_check = 3\n",
    "quantile_check = 0.1\n",
    "bit_prob_check = 0.4\n",
    "hour1_check    = 7\n",
    "hour2_check    = 20\n",
    "# distance check variables to be consider for tag correction in LWP cleanup\n",
    "dist_check = 3\n",
    "inter_dist_check = 2"
   ]
  },
  {
   "cell_type": "markdown",
   "metadata": {},
   "source": [
    "\n",
    "\n",
    "#1.take row data & correct data time format and select required columns"
   ]
  },
  {
   "cell_type": "code",
   "execution_count": 5,
   "metadata": {
    "scrolled": false
   },
   "outputs": [],
   "source": [
    "raw_data = pd.read_csv(r\"D:\\Telenor_GP_BAN\\LWP_input\\VCDR_LWP_Input_set2.csv\")\n",
    "\n",
    "#print(raw_data.head())\n",
    "\n",
    "raw_data1 = raw_data[['msisdn','call_start_time','call_identification_number','Lat_First_CI_tech', 'Lon_First_CI_tech']]\n",
    "\n",
    "raw_data1.call_start_time = pd.to_datetime(raw_data1['call_start_time'],format = '%d-%m-%Y %H:%M:%S')\n",
    "\n",
    "#raw_data1.info()\n",
    "\n",
    "# Splitting Date\n",
    "raw_data1[\"check_in_date\"] = raw_data1.call_start_time.dt.date\n",
    "raw_data1[\"check_in_hr\"]   = raw_data1.call_start_time.dt.hour\n",
    "raw_data1[\"check_in_min\"]  = raw_data1.call_start_time.dt.minute\n",
    "raw_data1[\"check_in_day\"]  = raw_data1.call_start_time.dt.day\n"
   ]
  },
  {
   "cell_type": "code",
   "execution_count": 6,
   "metadata": {},
   "outputs": [
    {
     "data": {
      "text/plain": [
       "(Timestamp('2017-06-08 00:00:00'), Timestamp('2017-06-23 23:54:00'))"
      ]
     },
     "execution_count": 6,
     "metadata": {},
     "output_type": "execute_result"
    }
   ],
   "source": [
    "raw_data1.call_start_time.min(), raw_data1.call_start_time.max()"
   ]
  },
  {
   "cell_type": "code",
   "execution_count": 7,
   "metadata": {
    "scrolled": true
   },
   "outputs": [
    {
     "data": {
      "text/plain": [
       "(Timestamp('2017-06-08 00:00:00'), Timestamp('2017-06-21 23:40:00'))"
      ]
     },
     "execution_count": 7,
     "metadata": {},
     "output_type": "execute_result"
    }
   ],
   "source": [
    "#This need to tune as per taken time duration\n",
    "raw_data1 = raw_data1[(raw_data1['call_start_time'] >= '2017-06-01 00:00:00') & \n",
    "                      (raw_data1['call_start_time'] < '2017-06-22 00:00:00')]\n",
    "\n",
    "raw_data1.call_start_time.min(), raw_data1.call_start_time.max()"
   ]
  },
  {
   "cell_type": "code",
   "execution_count": 8,
   "metadata": {},
   "outputs": [],
   "source": [
    "day_count=raw_data1.groupby(['msisdn'])['check_in_date'].nunique().reset_index()\n",
    "\n",
    "user_with_3_week_data=day_count[day_count['check_in_date']==14] # toral no of days to be change here\n",
    "\n",
    "raw_data1=pd.merge(raw_data1,user_with_3_week_data[['msisdn']],on=['msisdn'],how='inner')\n",
    "\n",
    "raw_data1.msisdn.nunique()"
   ]
  },
  {
   "cell_type": "markdown",
   "metadata": {},
   "source": [
    "### Need to remove data of Lat-Long missing "
   ]
  },
  {
   "cell_type": "code",
   "execution_count": 12,
   "metadata": {},
   "outputs": [
    {
     "data": {
      "text/plain": [
       "msisdn                        0\n",
       "call_start_time               0\n",
       "call_identification_number    0\n",
       "Lat_First_CI_tech             0\n",
       "Lon_First_CI_tech             0\n",
       "check_in_date                 0\n",
       "check_in_hr                   0\n",
       "check_in_min                  0\n",
       "check_in_day                  0\n",
       "dtype: int64"
      ]
     },
     "execution_count": 12,
     "metadata": {},
     "output_type": "execute_result"
    }
   ],
   "source": [
    "raw_data1=raw_data1.dropna()\n",
    "raw_data1.isnull().sum()"
   ]
  },
  {
   "cell_type": "code",
   "execution_count": 13,
   "metadata": {
    "scrolled": true
   },
   "outputs": [
    {
     "data": {
      "text/plain": [
       "(12994, 9)"
      ]
     },
     "execution_count": 13,
     "metadata": {},
     "output_type": "execute_result"
    }
   ],
   "source": [
    "raw_data1.shape"
   ]
  },
  {
   "cell_type": "markdown",
   "metadata": {},
   "source": [
    "# Step 1 to 2: Creating 30 min bins, Imputing missing bins"
   ]
  },
  {
   "cell_type": "code",
   "execution_count": 14,
   "metadata": {},
   "outputs": [],
   "source": [
    "# Half-hour Tag\n",
    "raw_data1.loc[raw_data1[\"check_in_min\"]<30,\"bin_hr\"]  ='0'\n",
    "raw_data1.loc[raw_data1[\"check_in_min\"]>=30,\"bin_hr\"] ='1'\n",
    "\n",
    "# Half-hour Bin\n",
    "raw_data1['bin_hr'] = raw_data1['check_in_hr'].astype(str)+\"_\"+raw_data1['bin_hr'].astype(str)\n",
    "\n",
    "# Unique Key\n",
    "raw_data1['key'] = raw_data1['msisdn'].astype(str) + \"_\" + \\\n",
    "                   raw_data1['check_in_day'].astype(str) + \"_\" + \\\n",
    "                   raw_data1['bin_hr'].astype(str)"
   ]
  },
  {
   "cell_type": "code",
   "execution_count": 16,
   "metadata": {},
   "outputs": [
    {
     "data": {
      "text/html": [
       "<div>\n",
       "<style scoped>\n",
       "    .dataframe tbody tr th:only-of-type {\n",
       "        vertical-align: middle;\n",
       "    }\n",
       "\n",
       "    .dataframe tbody tr th {\n",
       "        vertical-align: top;\n",
       "    }\n",
       "\n",
       "    .dataframe thead th {\n",
       "        text-align: right;\n",
       "    }\n",
       "</style>\n",
       "<table border=\"1\" class=\"dataframe\">\n",
       "  <thead>\n",
       "    <tr style=\"text-align: right;\">\n",
       "      <th></th>\n",
       "      <th>index</th>\n",
       "      <th>bin_hr_dumy</th>\n",
       "      <th>hr_min_dumy</th>\n",
       "    </tr>\n",
       "  </thead>\n",
       "  <tbody>\n",
       "    <tr>\n",
       "      <th>0</th>\n",
       "      <td>0</td>\n",
       "      <td>0_0</td>\n",
       "      <td>0:00</td>\n",
       "    </tr>\n",
       "    <tr>\n",
       "      <th>1</th>\n",
       "      <td>1</td>\n",
       "      <td>0_1</td>\n",
       "      <td>0:30</td>\n",
       "    </tr>\n",
       "  </tbody>\n",
       "</table>\n",
       "</div>"
      ],
      "text/plain": [
       "   index bin_hr_dumy hr_min_dumy\n",
       "0      0         0_0        0:00\n",
       "1      1         0_1        0:30"
      ]
     },
     "execution_count": 16,
     "metadata": {},
     "output_type": "execute_result"
    }
   ],
   "source": [
    "import copy\n",
    "df_imputed   = copy.copy(raw_data1)\n",
    "\n",
    "list_imsi    = list((raw_data1.msisdn.unique()))\n",
    "user_length  = len(list_imsi)\n",
    "day_length   = raw_data1[\"check_in_day\"].nunique()\n",
    "hr_length    = 48\n",
    "df_dumy      = pd.DataFrame(list_imsi,columns=['msisdn'])\n",
    "hr           = list(range(0,24))\n",
    "bin          = [0,1]\n",
    "min_bin      = ['00','30']\n",
    "hr_bin       = [str(i)+'_'+ str(j) for i in hr for j in bin]\n",
    "hr_min       = [str(i)+':'+ str(j) for i in hr for j in min_bin]\n",
    "\n",
    "# Repeating the msisdn for (24 x 2)hrs x 23 days\n",
    "df_dumy  = df_dumy.loc[df_dumy.index.repeat(day_length*hr_length)].reset_index(drop=True)\n",
    "\n",
    "hr_binDf = pd.DataFrame(hr_bin,columns = ['bin_hr_dumy'])\n",
    "hr_min_Df = pd.DataFrame(hr_min,columns = ['hr_min_dumy'])\n",
    "hr_binDf = pd.concat([hr_binDf]*(day_length*user_length), ignore_index=True)\n",
    "hr_binDf = hr_binDf.reset_index()\n",
    "hr_binDf1 = pd.concat([hr_min_Df]*(day_length*user_length), ignore_index=True)\n",
    "hr_binDf1 = hr_binDf1.reset_index()\n",
    "hr_binDf=pd.merge(hr_binDf,hr_binDf1,on=['index'],how='left')\n",
    "hr_binDf.head(2)"
   ]
  },
  {
   "cell_type": "code",
   "execution_count": 17,
   "metadata": {},
   "outputs": [
    {
     "data": {
      "text/html": [
       "<div>\n",
       "<style scoped>\n",
       "    .dataframe tbody tr th:only-of-type {\n",
       "        vertical-align: middle;\n",
       "    }\n",
       "\n",
       "    .dataframe tbody tr th {\n",
       "        vertical-align: top;\n",
       "    }\n",
       "\n",
       "    .dataframe thead th {\n",
       "        text-align: right;\n",
       "    }\n",
       "</style>\n",
       "<table border=\"1\" class=\"dataframe\">\n",
       "  <thead>\n",
       "    <tr style=\"text-align: right;\">\n",
       "      <th></th>\n",
       "      <th>msisdn</th>\n",
       "      <th>index</th>\n",
       "      <th>bin_hr_dumy</th>\n",
       "      <th>hr_min_dumy</th>\n",
       "      <th>day_dumy</th>\n",
       "    </tr>\n",
       "  </thead>\n",
       "  <tbody>\n",
       "    <tr>\n",
       "      <th>10080</th>\n",
       "      <td>8081090326</td>\n",
       "      <td>10080</td>\n",
       "      <td>0_0</td>\n",
       "      <td>0:00</td>\n",
       "      <td>8</td>\n",
       "    </tr>\n",
       "    <tr>\n",
       "      <th>10081</th>\n",
       "      <td>8081090326</td>\n",
       "      <td>10081</td>\n",
       "      <td>0_1</td>\n",
       "      <td>0:30</td>\n",
       "      <td>8</td>\n",
       "    </tr>\n",
       "    <tr>\n",
       "      <th>10082</th>\n",
       "      <td>8081090326</td>\n",
       "      <td>10082</td>\n",
       "      <td>1_0</td>\n",
       "      <td>1:00</td>\n",
       "      <td>8</td>\n",
       "    </tr>\n",
       "    <tr>\n",
       "      <th>10083</th>\n",
       "      <td>8081090326</td>\n",
       "      <td>10083</td>\n",
       "      <td>1_1</td>\n",
       "      <td>1:30</td>\n",
       "      <td>8</td>\n",
       "    </tr>\n",
       "    <tr>\n",
       "      <th>10084</th>\n",
       "      <td>8081090326</td>\n",
       "      <td>10084</td>\n",
       "      <td>2_0</td>\n",
       "      <td>2:00</td>\n",
       "      <td>8</td>\n",
       "    </tr>\n",
       "  </tbody>\n",
       "</table>\n",
       "</div>"
      ],
      "text/plain": [
       "           msisdn  index bin_hr_dumy hr_min_dumy  day_dumy\n",
       "10080  8081090326  10080         0_0        0:00         8\n",
       "10081  8081090326  10081         0_1        0:30         8\n",
       "10082  8081090326  10082         1_0        1:00         8\n",
       "10083  8081090326  10083         1_1        1:30         8\n",
       "10084  8081090326  10084         2_0        2:00         8"
      ]
     },
     "execution_count": 17,
     "metadata": {},
     "output_type": "execute_result"
    }
   ],
   "source": [
    "day   = list(range(min(raw_data1[\"check_in_day\"]),max(raw_data1[\"check_in_day\"])+1))\n",
    "\n",
    "dayDf = pd.DataFrame(day,columns=['day_dumy'])\n",
    "dayDf = dayDf.loc[dayDf.index.repeat(hr_length)].reset_index(drop=True)\n",
    "dayDf = pd.concat([dayDf]*(user_length), ignore_index=True)\n",
    "\n",
    "df_dumy = df_dumy.join(hr_binDf)\n",
    "df_dumy = df_dumy.join(dayDf)\n",
    "df_dumy = df_dumy.sort_values(['msisdn','index','bin_hr_dumy'],ascending=[True,True,True])\n",
    "df_dumy.head()"
   ]
  },
  {
   "cell_type": "code",
   "execution_count": 18,
   "metadata": {
    "scrolled": true
   },
   "outputs": [
    {
     "data": {
      "text/html": [
       "<div>\n",
       "<style scoped>\n",
       "    .dataframe tbody tr th:only-of-type {\n",
       "        vertical-align: middle;\n",
       "    }\n",
       "\n",
       "    .dataframe tbody tr th {\n",
       "        vertical-align: top;\n",
       "    }\n",
       "\n",
       "    .dataframe thead th {\n",
       "        text-align: right;\n",
       "    }\n",
       "</style>\n",
       "<table border=\"1\" class=\"dataframe\">\n",
       "  <thead>\n",
       "    <tr style=\"text-align: right;\">\n",
       "      <th></th>\n",
       "      <th>msisdn_x</th>\n",
       "      <th>index</th>\n",
       "      <th>bin_hr_dumy</th>\n",
       "      <th>hr_min_dumy</th>\n",
       "      <th>day_dumy</th>\n",
       "      <th>key</th>\n",
       "      <th>msisdn_y</th>\n",
       "      <th>call_start_time</th>\n",
       "      <th>call_identification_number</th>\n",
       "      <th>Lat_First_CI_tech</th>\n",
       "      <th>Lon_First_CI_tech</th>\n",
       "      <th>check_in_date</th>\n",
       "      <th>check_in_hr</th>\n",
       "      <th>check_in_min</th>\n",
       "      <th>check_in_day</th>\n",
       "      <th>bin_hr</th>\n",
       "    </tr>\n",
       "  </thead>\n",
       "  <tbody>\n",
       "    <tr>\n",
       "      <th>0</th>\n",
       "      <td>8081090326</td>\n",
       "      <td>10080</td>\n",
       "      <td>0_0</td>\n",
       "      <td>0:00</td>\n",
       "      <td>8</td>\n",
       "      <td>8081090326_8_0_0</td>\n",
       "      <td>nan</td>\n",
       "      <td>NaT</td>\n",
       "      <td>NaN</td>\n",
       "      <td>nan</td>\n",
       "      <td>nan</td>\n",
       "      <td>NaN</td>\n",
       "      <td>nan</td>\n",
       "      <td>nan</td>\n",
       "      <td>nan</td>\n",
       "      <td>NaN</td>\n",
       "    </tr>\n",
       "    <tr>\n",
       "      <th>1</th>\n",
       "      <td>8081090326</td>\n",
       "      <td>10081</td>\n",
       "      <td>0_1</td>\n",
       "      <td>0:30</td>\n",
       "      <td>8</td>\n",
       "      <td>8081090326_8_0_1</td>\n",
       "      <td>nan</td>\n",
       "      <td>NaT</td>\n",
       "      <td>NaN</td>\n",
       "      <td>nan</td>\n",
       "      <td>nan</td>\n",
       "      <td>NaN</td>\n",
       "      <td>nan</td>\n",
       "      <td>nan</td>\n",
       "      <td>nan</td>\n",
       "      <td>NaN</td>\n",
       "    </tr>\n",
       "    <tr>\n",
       "      <th>2</th>\n",
       "      <td>8081090326</td>\n",
       "      <td>10082</td>\n",
       "      <td>1_0</td>\n",
       "      <td>1:00</td>\n",
       "      <td>8</td>\n",
       "      <td>8081090326_8_1_0</td>\n",
       "      <td>nan</td>\n",
       "      <td>NaT</td>\n",
       "      <td>NaN</td>\n",
       "      <td>nan</td>\n",
       "      <td>nan</td>\n",
       "      <td>NaN</td>\n",
       "      <td>nan</td>\n",
       "      <td>nan</td>\n",
       "      <td>nan</td>\n",
       "      <td>NaN</td>\n",
       "    </tr>\n",
       "    <tr>\n",
       "      <th>3</th>\n",
       "      <td>8081090326</td>\n",
       "      <td>10083</td>\n",
       "      <td>1_1</td>\n",
       "      <td>1:30</td>\n",
       "      <td>8</td>\n",
       "      <td>8081090326_8_1_1</td>\n",
       "      <td>nan</td>\n",
       "      <td>NaT</td>\n",
       "      <td>NaN</td>\n",
       "      <td>nan</td>\n",
       "      <td>nan</td>\n",
       "      <td>NaN</td>\n",
       "      <td>nan</td>\n",
       "      <td>nan</td>\n",
       "      <td>nan</td>\n",
       "      <td>NaN</td>\n",
       "    </tr>\n",
       "    <tr>\n",
       "      <th>4</th>\n",
       "      <td>8081090326</td>\n",
       "      <td>10084</td>\n",
       "      <td>2_0</td>\n",
       "      <td>2:00</td>\n",
       "      <td>8</td>\n",
       "      <td>8081090326_8_2_0</td>\n",
       "      <td>nan</td>\n",
       "      <td>NaT</td>\n",
       "      <td>NaN</td>\n",
       "      <td>nan</td>\n",
       "      <td>nan</td>\n",
       "      <td>NaN</td>\n",
       "      <td>nan</td>\n",
       "      <td>nan</td>\n",
       "      <td>nan</td>\n",
       "      <td>NaN</td>\n",
       "    </tr>\n",
       "  </tbody>\n",
       "</table>\n",
       "</div>"
      ],
      "text/plain": [
       "     msisdn_x  index bin_hr_dumy hr_min_dumy  day_dumy               key  \\\n",
       "0  8081090326  10080         0_0        0:00         8  8081090326_8_0_0   \n",
       "1  8081090326  10081         0_1        0:30         8  8081090326_8_0_1   \n",
       "2  8081090326  10082         1_0        1:00         8  8081090326_8_1_0   \n",
       "3  8081090326  10083         1_1        1:30         8  8081090326_8_1_1   \n",
       "4  8081090326  10084         2_0        2:00         8  8081090326_8_2_0   \n",
       "\n",
       "   msisdn_y call_start_time call_identification_number  Lat_First_CI_tech  \\\n",
       "0       nan             NaT                        NaN                nan   \n",
       "1       nan             NaT                        NaN                nan   \n",
       "2       nan             NaT                        NaN                nan   \n",
       "3       nan             NaT                        NaN                nan   \n",
       "4       nan             NaT                        NaN                nan   \n",
       "\n",
       "   Lon_First_CI_tech check_in_date  check_in_hr  check_in_min  check_in_day  \\\n",
       "0                nan           NaN          nan           nan           nan   \n",
       "1                nan           NaN          nan           nan           nan   \n",
       "2                nan           NaN          nan           nan           nan   \n",
       "3                nan           NaN          nan           nan           nan   \n",
       "4                nan           NaN          nan           nan           nan   \n",
       "\n",
       "  bin_hr  \n",
       "0    NaN  \n",
       "1    NaN  \n",
       "2    NaN  \n",
       "3    NaN  \n",
       "4    NaN  "
      ]
     },
     "execution_count": 18,
     "metadata": {},
     "output_type": "execute_result"
    }
   ],
   "source": [
    "df_dumy['key'] = df_dumy['msisdn'].astype(str) + \"_\" + \\\n",
    "                 df_dumy['day_dumy'].astype(str) +  \"_\" + \\\n",
    "                 df_dumy['bin_hr_dumy'].astype(str)\n",
    "\n",
    "df_imputed1 = pd.merge(df_dumy,df_imputed,on=['key'],how='left')\n",
    "df_imputed1.head()"
   ]
  },
  {
   "cell_type": "code",
   "execution_count": 19,
   "metadata": {},
   "outputs": [],
   "source": [
    "df_imputed1['month']=6\n",
    "df_imputed1['year']=2017\n",
    "df_imputed1['Dumy_date_time']=df_imputed1['day_dumy'].astype(str) + \"-\" + df_imputed1['month'].astype(str)+ \"-\" +df_imputed1['year'].astype(str)+ \" \" +df_imputed1['hr_min_dumy'].astype(str) "
   ]
  },
  {
   "cell_type": "code",
   "execution_count": 20,
   "metadata": {},
   "outputs": [],
   "source": [
    "df_imputed1.Dumy_date_time = pd.to_datetime(df_imputed1['Dumy_date_time'],format = '%d-%m-%Y %H:%M')"
   ]
  },
  {
   "cell_type": "code",
   "execution_count": 21,
   "metadata": {},
   "outputs": [],
   "source": [
    "#imputed_data_final1.to_csv(\"df_imputed_final.csv\")"
   ]
  },
  {
   "cell_type": "code",
   "execution_count": 22,
   "metadata": {},
   "outputs": [],
   "source": [
    "msisdn=df_imputed1.msisdn_x.unique()\n",
    "imputed_result=pd.DataFrame()\n",
    "for i in msisdn:\n",
    "    df=df_imputed1[df_imputed1['msisdn_x']==i]\n",
    "    #impute_lst = ['msisdn_y', 'call_start_time', 'call_identification_number', 'Lat_First_CI_tech', 'Lon_First_CI_tech', \n",
    "    #              'check_in_date', 'check_in_hr', 'check_in_min','check_in_day', 'week', 'bin_hr']\n",
    "    impute_lst = ['msisdn_y', 'call_identification_number', 'Lat_First_CI_tech', 'Lon_First_CI_tech']\n",
    "    for j in impute_lst:\n",
    "        df[j].fillna(method='pad', inplace=True)\n",
    "    imputed_result=pd.concat([imputed_result,df],axis=0)\n",
    "        "
   ]
  },
  {
   "cell_type": "code",
   "execution_count": 23,
   "metadata": {},
   "outputs": [
    {
     "data": {
      "text/plain": [
       "(27169, 7)"
      ]
     },
     "execution_count": 23,
     "metadata": {},
     "output_type": "execute_result"
    }
   ],
   "source": [
    "imputed_data_final=imputed_result[['msisdn_x','bin_hr_dumy','call_start_time','call_identification_number','Lat_First_CI_tech','Lon_First_CI_tech','Dumy_date_time']]\n",
    "imputed_data_final.shape"
   ]
  },
  {
   "cell_type": "code",
   "execution_count": 24,
   "metadata": {},
   "outputs": [],
   "source": [
    "imputed_data_final1=imputed_data_final[imputed_data_final['call_start_time'].isnull()]\n",
    "imputed_data_final2=imputed_data_final[imputed_data_final['call_start_time'].notnull()]\n",
    "\n",
    "imputed_data_final1['call_start_time']=imputed_data_final1['Dumy_date_time']\n",
    "\n",
    "imputed_data_final1=imputed_data_final2.append(imputed_data_final1)\n",
    "\n",
    "imputed_data_final1.shape"
   ]
  },
  {
   "cell_type": "code",
   "execution_count": 28,
   "metadata": {},
   "outputs": [],
   "source": [
    "imputed_data_final1=imputed_data_final1.iloc[:,0:-1]"
   ]
  },
  {
   "cell_type": "code",
   "execution_count": 29,
   "metadata": {},
   "outputs": [],
   "source": [
    "imputed_data_final1.rename(columns={'msisdn_x':'msisdn'},inplace=True)\n",
    "imputed_data_final1['day_dumy'] = pd.to_datetime(imputed_data_final1['call_start_time']).dt.day\n",
    "imputed_data_final1['check_in_hr'] = pd.to_datetime(imputed_data_final1['call_start_time']).dt.hour\n",
    "imputed_data_final1['check_in_min'] = pd.to_datetime(imputed_data_final1['call_start_time']).dt.minute\n",
    "imputed_data_final1['check_in_date'] = pd.to_datetime(imputed_data_final1['call_start_time']).dt.date"
   ]
  },
  {
   "cell_type": "code",
   "execution_count": 31,
   "metadata": {},
   "outputs": [],
   "source": [
    "df_imputed1=imputed_data_final1.copy()"
   ]
  },
  {
   "cell_type": "markdown",
   "metadata": {},
   "source": [
    "### Step 3: Cleaning by taking first and last time stamp in each bin"
   ]
  },
  {
   "cell_type": "code",
   "execution_count": 32,
   "metadata": {},
   "outputs": [
    {
     "data": {
      "text/html": [
       "<div>\n",
       "<style scoped>\n",
       "    .dataframe tbody tr th:only-of-type {\n",
       "        vertical-align: middle;\n",
       "    }\n",
       "\n",
       "    .dataframe tbody tr th {\n",
       "        vertical-align: top;\n",
       "    }\n",
       "\n",
       "    .dataframe thead th {\n",
       "        text-align: right;\n",
       "    }\n",
       "</style>\n",
       "<table border=\"1\" class=\"dataframe\">\n",
       "  <thead>\n",
       "    <tr style=\"text-align: right;\">\n",
       "      <th></th>\n",
       "      <th>msisdn</th>\n",
       "      <th>bin_hr_dumy</th>\n",
       "      <th>call_start_time</th>\n",
       "      <th>call_identification_number</th>\n",
       "      <th>Lat_First_CI_tech</th>\n",
       "      <th>Lon_First_CI_tech</th>\n",
       "      <th>day_dumy</th>\n",
       "      <th>check_in_hr</th>\n",
       "      <th>check_in_min</th>\n",
       "      <th>check_in_date</th>\n",
       "    </tr>\n",
       "  </thead>\n",
       "  <tbody>\n",
       "    <tr>\n",
       "      <th>26378</th>\n",
       "      <td>9971726973</td>\n",
       "      <td>0_0</td>\n",
       "      <td>2017-06-08</td>\n",
       "      <td>13874852</td>\n",
       "      <td>28.51</td>\n",
       "      <td>77.07</td>\n",
       "      <td>8</td>\n",
       "      <td>0</td>\n",
       "      <td>0</td>\n",
       "      <td>2017-06-08</td>\n",
       "    </tr>\n",
       "    <tr>\n",
       "      <th>0</th>\n",
       "      <td>8081090326</td>\n",
       "      <td>0_0</td>\n",
       "      <td>2017-06-08</td>\n",
       "      <td>NaN</td>\n",
       "      <td>nan</td>\n",
       "      <td>nan</td>\n",
       "      <td>8</td>\n",
       "      <td>0</td>\n",
       "      <td>0</td>\n",
       "      <td>2017-06-08</td>\n",
       "    </tr>\n",
       "  </tbody>\n",
       "</table>\n",
       "</div>"
      ],
      "text/plain": [
       "           msisdn bin_hr_dumy call_start_time call_identification_number  \\\n",
       "26378  9971726973         0_0      2017-06-08                   13874852   \n",
       "0      8081090326         0_0      2017-06-08                        NaN   \n",
       "\n",
       "       Lat_First_CI_tech  Lon_First_CI_tech  day_dumy  check_in_hr  \\\n",
       "26378              28.51              77.07         8            0   \n",
       "0                    nan                nan         8            0   \n",
       "\n",
       "       check_in_min check_in_date  \n",
       "26378             0    2017-06-08  \n",
       "0                 0    2017-06-08  "
      ]
     },
     "execution_count": 32,
     "metadata": {},
     "output_type": "execute_result"
    }
   ],
   "source": [
    "\n",
    "min_hr = df_imputed1.sort_values(['check_in_hr','check_in_min'],\n",
    "                                 ascending = [True,True]).groupby(['msisdn','day_dumy','bin_hr_dumy']).head(1)\n",
    "\n",
    "max_hr = df_imputed1.sort_values(['check_in_hr','check_in_min'],\n",
    "                                 ascending = [True,False]).groupby(['msisdn','day_dumy','bin_hr_dumy']).head(1)\n",
    "\n",
    "final_df = pd.concat([min_hr,max_hr])\n",
    "final_df.head(2)"
   ]
  },
  {
   "cell_type": "code",
   "execution_count": 33,
   "metadata": {},
   "outputs": [
    {
     "data": {
      "text/plain": [
       "((20160, 10), (20160, 10), (40320, 10))"
      ]
     },
     "execution_count": 33,
     "metadata": {},
     "output_type": "execute_result"
    }
   ],
   "source": [
    "min_hr.shape, max_hr.shape, final_df.shape"
   ]
  },
  {
   "cell_type": "code",
   "execution_count": 34,
   "metadata": {},
   "outputs": [
    {
     "data": {
      "text/plain": [
       "(22860, 10)"
      ]
     },
     "execution_count": 34,
     "metadata": {},
     "output_type": "execute_result"
    }
   ],
   "source": [
    "final_df = final_df.drop_duplicates()\n",
    "final_df.shape"
   ]
  },
  {
   "cell_type": "code",
   "execution_count": 35,
   "metadata": {},
   "outputs": [],
   "source": [
    "#final_df.to_csv(\"final_df_v1.csv\")"
   ]
  },
  {
   "cell_type": "code",
   "execution_count": 36,
   "metadata": {},
   "outputs": [],
   "source": [
    "final_df1 = final_df[[\"msisdn\",\"call_identification_number\",\n",
    "                      \"Lat_First_CI_tech\",\"Lon_First_CI_tech\",\n",
    "                      \"bin_hr_dumy\",\"day_dumy\",'check_in_date',\n",
    "                     \"check_in_hr\",\"check_in_min\",\"call_start_time\"]]\n",
    "\n",
    "final_df1                 = final_df1.sort_values(['msisdn','day_dumy','call_start_time'], \n",
    "                                                  ascending=[True,True,True])\n",
    "final_df1.reset_index(drop=True,inplace=True)\n",
    "final_df2                 = final_df1\n",
    "final_df2['Lat_shifted']  = final_df2.groupby('msisdn')['Lat_First_CI_tech'].transform(lambda x: x.shift())\n",
    "final_df2['long_shifted'] = final_df2.groupby('msisdn')['Lon_First_CI_tech'].transform(lambda x: x.shift())\n",
    "final_df2['time_taken']   = final_df2.groupby('msisdn')['call_start_time'].transform(lambda x: x-x.shift()).dt.seconds\n"
   ]
  },
  {
   "cell_type": "markdown",
   "metadata": {},
   "source": [
    "### Step 4 & 5: Calculating Distance and Time Taken, and Aggregate the Data"
   ]
  },
  {
   "cell_type": "code",
   "execution_count": 37,
   "metadata": {},
   "outputs": [],
   "source": [
    "final_df2['distance'] = final_df2.apply(lambda row : haversine(row['Lon_First_CI_tech'], row['Lat_First_CI_tech'],\n",
    "                                                               row['long_shifted'], row['Lat_shifted']), axis = 1)"
   ]
  },
  {
   "cell_type": "code",
   "execution_count": 38,
   "metadata": {},
   "outputs": [],
   "source": [
    "final_df2.to_csv(r\"D:\\Telenor_GP_BAN\\Codes_output\\distance_ouput_set2.csv\")"
   ]
  },
  {
   "cell_type": "code",
   "execution_count": 39,
   "metadata": {},
   "outputs": [],
   "source": [
    "final_df3 = final_df2.groupby(['msisdn','check_in_date', \n",
    "                               'day_dumy','check_in_hr',\n",
    "                               'bin_hr_dumy'])['time_taken','distance'].sum().reset_index()\n",
    "\n",
    "# If time taken is greater than 30 minutes (1800 seconds), then restrict to 1800 seconds\n",
    "final_df3.loc[final_df3.time_taken >= 1800,'time_taken'] = 1800\n",
    "\n",
    "# Calculating speed = distance/time\n",
    "final_df3['speed'] = (final_df3['distance'] / final_df3['time_taken']) * 3600"
   ]
  },
  {
   "cell_type": "code",
   "execution_count": 40,
   "metadata": {},
   "outputs": [
    {
     "data": {
      "text/plain": [
       "(20160, 8)"
      ]
     },
     "execution_count": 40,
     "metadata": {},
     "output_type": "execute_result"
    }
   ],
   "source": [
    "final_df3.shape"
   ]
  },
  {
   "cell_type": "code",
   "execution_count": 41,
   "metadata": {},
   "outputs": [],
   "source": [
    "#final_df3.to_csv(\"Step_5_op_v1.csv\")"
   ]
  },
  {
   "cell_type": "markdown",
   "metadata": {},
   "source": [
    "### Step 6: Tag Mobile and Stationary based on Condition"
   ]
  },
  {
   "cell_type": "code",
   "execution_count": 42,
   "metadata": {},
   "outputs": [],
   "source": [
    "# If speed is greater than 4kmph and distance is greater than 3km, then assign status as Mobile\n",
    "final_df3.loc[(final_df3.speed>speed_check) & (final_df3.distance>distance_check),'status'] = 'Mobile'\n",
    "\n",
    "# If not, assign status as Stationary\n",
    "final_df3.loc[final_df3.status.isnull(),'status']='Stationary'"
   ]
  },
  {
   "cell_type": "code",
   "execution_count": 43,
   "metadata": {},
   "outputs": [],
   "source": [
    "final_df3.to_csv(r\"D:\\Telenor_GP_BAN\\Codes_output\\with_M_S_tag_set2.csv\",index=False)"
   ]
  },
  {
   "cell_type": "markdown",
   "metadata": {},
   "source": [
    "### Step 16: Filter rows where tag is 'Mobile'"
   ]
  },
  {
   "cell_type": "code",
   "execution_count": 44,
   "metadata": {},
   "outputs": [],
   "source": [
    "# Filtering Mobile Tag\n",
    "final_df4 = final_df3[final_df3['status']=='Mobile']\n",
    "\n",
    "#final_df4.shape\n",
    "\n",
    "# Distinct Weeks\n",
    "final_df4.loc[(final_df4[\"day_dumy\"]<=7),\"week\"]=int(1)\n",
    "final_df4.loc[(final_df4[\"day_dumy\"]> 7)  & (final_df4[\"day_dumy\"]<=14),\"week\"] = int(2)\n",
    "final_df4.loc[(final_df4[\"day_dumy\"]> 14) & (final_df4[\"day_dumy\"]<=21),\"week\"] = int(3)\n",
    "final_df4.loc[(final_df4[\"day_dumy\"]> 21) & (final_df4[\"day_dumy\"]<=28),\"week\"] = int(4)\n",
    "#final_df4['week'].unique()\n",
    "\n",
    "final_df4.drop_duplicates(keep=False,inplace=True)"
   ]
  },
  {
   "cell_type": "markdown",
   "metadata": {},
   "source": [
    "### Step 17: Aggregate the Data"
   ]
  },
  {
   "cell_type": "code",
   "execution_count": 48,
   "metadata": {},
   "outputs": [],
   "source": [
    "final_df4['check_in_date'] = pd.to_datetime(final_df4['check_in_date'])\n",
    "final_df4['dayofweek'] = final_df4['check_in_date'].dt.day_name()\n",
    "\n",
    "\n",
    "# tagging sunday & saturdat as weekend & rest as weekday\n",
    "def com(x):\n",
    "    if((x['dayofweek']=='Sunday') or (x['dayofweek']=='Saturday')):\n",
    "        return 'weekend'\n",
    "    else:\n",
    "        return 'weekday'\n",
    "final_df4['weekday_weekend']= final_df4.apply(com,axis=1)\n",
    "\n",
    "# filter weeday & weekend data \n",
    "weekday_data=final_df4[(final_df4['weekday_weekend']=='weekday')]\n",
    "weekend_data=final_df4[(final_df4['weekday_weekend']=='weekend')]\n"
   ]
  },
  {
   "cell_type": "code",
   "execution_count": 49,
   "metadata": {},
   "outputs": [
    {
     "data": {
      "text/plain": [
       "Monday       327\n",
       "Tuesday      324\n",
       "Friday       287\n",
       "Thursday     272\n",
       "Wednesday    267\n",
       "Name: dayofweek, dtype: int64"
      ]
     },
     "execution_count": 49,
     "metadata": {},
     "output_type": "execute_result"
    }
   ],
   "source": [
    "weekday_data.dayofweek.value_counts()"
   ]
  },
  {
   "cell_type": "code",
   "execution_count": 50,
   "metadata": {},
   "outputs": [],
   "source": [
    "#total_sample=final_df4.groupby(['imsi','day_dumy','distance','time_taken','week']).agg(total_events=('day_dumy','count'),total_distance_travelled=('distance','sum'),total_time_spent=('time_taken','sum'),Distinct_week=('week','count')).reset_index()\n",
    "total_sample = weekday_data.groupby(['msisdn','dayofweek','check_in_hr'\n",
    "                                 ]).agg(total_events             = ('day_dumy','count'),\n",
    "                                        total_distance_travelled = ('distance','sum'),\n",
    "                                        total_time_spent         = ('time_taken','sum'),\n",
    "                                        Distinct_week            = ('week','nunique')).reset_index()\n",
    "\n",
    "df_imputed1['check_in_date'] = pd.to_datetime(df_imputed1['check_in_date'])\n",
    "df_imputed1['dayofweek'] = df_imputed1['check_in_date'].dt.day_name()\n",
    "\n",
    "Distinct_cells  =  df_imputed1.groupby(['msisdn','dayofweek','check_in_hr']).agg(Distinct_cells=('call_identification_number','nunique')).reset_index()\n",
    "Distinct_cells.shape,total_sample.shape"
   ]
  },
  {
   "cell_type": "code",
   "execution_count": 53,
   "metadata": {},
   "outputs": [
    {
     "data": {
      "text/plain": [
       "(958, 8)"
      ]
     },
     "execution_count": 53,
     "metadata": {},
     "output_type": "execute_result"
    }
   ],
   "source": [
    "Join_with_Distinct_cells=total_sample.merge(Distinct_cells,on=['msisdn','dayofweek','check_in_hr'],how='left')\n",
    "Join_with_Distinct_cells.shape"
   ]
  },
  {
   "cell_type": "markdown",
   "metadata": {},
   "source": [
    "### Step 18: Calculate Mobility Factor"
   ]
  },
  {
   "cell_type": "code",
   "execution_count": 54,
   "metadata": {},
   "outputs": [],
   "source": [
    "Join_with_Distinct_cells['Mobility_factor'] = Join_with_Distinct_cells['total_events']*\\\n",
    "                                  Join_with_Distinct_cells['total_distance_travelled']*\\\n",
    "                                  Join_with_Distinct_cells['total_time_spent']*\\\n",
    "                                  Join_with_Distinct_cells['Distinct_cells']\n",
    "#Join_with_Distinct_cells.head()\n",
    "\n",
    "Non_zero_sample = Join_with_Distinct_cells[Join_with_Distinct_cells['msisdn'].notnull()]\n",
    "Non_zero_sample.shape,Join_with_Distinct_cells.shape"
   ]
  },
  {
   "cell_type": "markdown",
   "metadata": {},
   "source": [
    "### Step 19: Mobility Factor \"E\" > \"10th_perc_cut_off\""
   ]
  },
  {
   "cell_type": "code",
   "execution_count": 56,
   "metadata": {},
   "outputs": [],
   "source": [
    "percentile_data    = Non_zero_sample.groupby(['msisdn'])['Mobility_factor'].quantile(quantile_check).reset_index()\n",
    "percentile_data.rename(columns={'Mobility_factor':'10_percentile'},inplace=True)\n",
    "\n",
    "percentile_cut_off = pd.merge(Join_with_Distinct_cells, percentile_data, on=(['msisdn']), how='left')\n",
    "#percentile_cut_off.head()"
   ]
  },
  {
   "cell_type": "markdown",
   "metadata": {},
   "source": [
    "### Step 20:  Mobility Factor calculation \n",
    "#### Note: Restriction 1(Easy) to reduce Mobility Hours --> MF>10th Percentile\n",
    "#### Note: Restriction 2(Harsh) Cinsider Hours only if Distict Weeks > 2"
   ]
  },
  {
   "cell_type": "code",
   "execution_count": 57,
   "metadata": {},
   "outputs": [],
   "source": [
    "#percentile_cut_off.loc[(percentile_cut_off['Mobility_factor']>percentile_cut_off['10_percentile']) & (percentile_cut_off['Distinct_week']>=2),'hourly_probability'] = 1\n",
    "percentile_cut_off.loc[(percentile_cut_off['Mobility_factor']>percentile_cut_off['10_percentile']),'hourly_probability'] = 1\n",
    "\n",
    "percentile_cut_off.hourly_probability.fillna(0,inplace=True)\n",
    "#percentile_cut_off.head()\n",
    "percentile_cut_off=percentile_cut_off.drop_duplicates()"
   ]
  },
  {
   "cell_type": "markdown",
   "metadata": {},
   "source": [
    "### Step 23: Create 24 hours Mobility pattern for each user"
   ]
  },
  {
   "cell_type": "code",
   "execution_count": 60,
   "metadata": {},
   "outputs": [],
   "source": [
    "user_pattren_24_7=percentile_cut_off.groupby(['msisdn','dayofweek','check_in_hr'])['hourly_probability'].sum().unstack(-1).fillna(0).reset_index()\n",
    "user_pattren_24_7.replace({0:'S',1:\"M\",2:\"M\",3:\"M\",4:\"M\"},inplace=True)"
   ]
  },
  {
   "cell_type": "code",
   "execution_count": 61,
   "metadata": {},
   "outputs": [],
   "source": [
    "percentile_cut_off.to_csv(r\"D:\\Telenor_GP_BAN\\Codes_output\\percentile_cut_off_set2.csv\",index=False)"
   ]
  },
  {
   "cell_type": "code",
   "execution_count": 62,
   "metadata": {},
   "outputs": [],
   "source": [
    "user_pattren_24_7.to_csv(r\"D:\\Telenor_GP_BAN\\Codes_output\\User_pattren_24x7_set2.csv\",index=False)\n"
   ]
  },
  {
   "cell_type": "markdown",
   "metadata": {},
   "source": [
    "# For All day "
   ]
  },
  {
   "cell_type": "code",
   "execution_count": 63,
   "metadata": {},
   "outputs": [],
   "source": [
    "# percentile_cut_off_agg=percentile_cut_off.groupby(['msisdn','check_in_hr']).agg(bit_sum=('hourly_probability','sum')).reset_index()\n",
    "\n",
    "# percentile_cut_off_agg['bit_sum']=percentile_cut_off_agg['bit_sum']/7\n",
    "# percentile_cut_off_agg['Bit']=  np.where(percentile_cut_off_agg['bit_sum']>0.428, \"M\",\"S\")\n",
    "\n",
    "# # Pivot data \n",
    "# all_day_pattren=percentile_cut_off_agg.groupby(['msisdn','check_in_hr'])['Bit'].sum().unstack(-1).fillna(\"S\").reset_index()\n"
   ]
  },
  {
   "cell_type": "code",
   "execution_count": 64,
   "metadata": {},
   "outputs": [],
   "source": [
    "# all_day_pattren.to_csv(\"all_day_pattren_v2.csv\")"
   ]
  },
  {
   "cell_type": "markdown",
   "metadata": {},
   "source": [
    "# For Weekday\n",
    "#### Bit_Sum is tunable "
   ]
  },
  {
   "cell_type": "code",
   "execution_count": 65,
   "metadata": {},
   "outputs": [
    {
     "data": {
      "text/plain": [
       "0.4"
      ]
     },
     "execution_count": 65,
     "metadata": {},
     "output_type": "execute_result"
    }
   ],
   "source": [
    "bit_prob_check"
   ]
  },
  {
   "cell_type": "code",
   "execution_count": 66,
   "metadata": {},
   "outputs": [],
   "source": [
    "weekday_data_agg=percentile_cut_off.groupby(['msisdn','check_in_hr']).agg(bit_sum=('hourly_probability','sum')).reset_index()\n",
    "\n",
    "weekday_data_agg['bit_sum']=weekday_data_agg['bit_sum']/5\n",
    "weekday_data_agg['Bit']=  np.where(weekday_data_agg['bit_sum']>bit_prob_check, \"M\",\"S\")\n",
    "\n",
    "# Pivot datbit_prob_check\n",
    "weekday_pattren=weekday_data_agg.groupby(['msisdn','check_in_hr'])['Bit'].sum().unstack(-1).fillna(\"S\").reset_index()"
   ]
  },
  {
   "cell_type": "code",
   "execution_count": 67,
   "metadata": {},
   "outputs": [],
   "source": [
    "weekday_pattren.to_csv(r\"D:\\Telenor_GP_BAN\\Codes_output\\Weekday_pattren_set2.csv\",index=False)"
   ]
  },
  {
   "cell_type": "markdown",
   "metadata": {},
   "source": [
    "# For Weekend"
   ]
  },
  {
   "cell_type": "code",
   "execution_count": 68,
   "metadata": {},
   "outputs": [],
   "source": [
    "# weekend_data_agg=weekend_data.groupby(['msisdn','check_in_hr']).agg(bit_sum=('hourly_probability','sum')).reset_index()\n",
    "\n",
    "# weekend_data_agg['bit_sum']=weekend_data_agg['bit_sum']/2\n",
    "# weekend_data_agg['Bit']=  np.where(weekend_data_agg['bit_sum']>0.5, \"M\",\"S\")\n",
    "\n",
    "# # Pivot data \n",
    "# weekend_pattren=weekend_data_agg.groupby(['msisdn','check_in_hr'])['Bit'].sum().unstack(-1).fillna(\"S\").reset_index()\n"
   ]
  },
  {
   "cell_type": "code",
   "execution_count": 69,
   "metadata": {},
   "outputs": [],
   "source": [
    "# weekend_pattren.to_csv(\"Weekend_pattren.csv\")"
   ]
  },
  {
   "cell_type": "markdown",
   "metadata": {},
   "source": [
    "# Step 25"
   ]
  },
  {
   "cell_type": "code",
   "execution_count": 71,
   "metadata": {
    "scrolled": true
   },
   "outputs": [
    {
     "data": {
      "text/html": [
       "<div>\n",
       "<style scoped>\n",
       "    .dataframe tbody tr th:only-of-type {\n",
       "        vertical-align: middle;\n",
       "    }\n",
       "\n",
       "    .dataframe tbody tr th {\n",
       "        vertical-align: top;\n",
       "    }\n",
       "\n",
       "    .dataframe thead th {\n",
       "        text-align: right;\n",
       "    }\n",
       "</style>\n",
       "<table border=\"1\" class=\"dataframe\">\n",
       "  <thead>\n",
       "    <tr style=\"text-align: right;\">\n",
       "      <th>msisdn</th>\n",
       "      <th>8081090326</th>\n",
       "      <th>8130512825</th>\n",
       "      <th>8376047165</th>\n",
       "      <th>8377946756</th>\n",
       "      <th>8800594342</th>\n",
       "      <th>8800894118</th>\n",
       "      <th>8826390220</th>\n",
       "      <th>8860080120</th>\n",
       "      <th>9560045522</th>\n",
       "      <th>9582023942</th>\n",
       "      <th>9582261362</th>\n",
       "      <th>9599522355</th>\n",
       "      <th>9654981192</th>\n",
       "      <th>9711300642</th>\n",
       "      <th>9711303913</th>\n",
       "      <th>9717285978</th>\n",
       "      <th>9717627838</th>\n",
       "      <th>9810040500</th>\n",
       "      <th>9810403756</th>\n",
       "      <th>9810462609</th>\n",
       "      <th>9818259866</th>\n",
       "      <th>9818783881</th>\n",
       "      <th>9829086697</th>\n",
       "      <th>9910334990</th>\n",
       "      <th>9910526500</th>\n",
       "      <th>9953467155</th>\n",
       "      <th>9953562426</th>\n",
       "      <th>9958176146</th>\n",
       "      <th>9971430165</th>\n",
       "      <th>9971726973</th>\n",
       "    </tr>\n",
       "    <tr>\n",
       "      <th>check_in_hr</th>\n",
       "      <th></th>\n",
       "      <th></th>\n",
       "      <th></th>\n",
       "      <th></th>\n",
       "      <th></th>\n",
       "      <th></th>\n",
       "      <th></th>\n",
       "      <th></th>\n",
       "      <th></th>\n",
       "      <th></th>\n",
       "      <th></th>\n",
       "      <th></th>\n",
       "      <th></th>\n",
       "      <th></th>\n",
       "      <th></th>\n",
       "      <th></th>\n",
       "      <th></th>\n",
       "      <th></th>\n",
       "      <th></th>\n",
       "      <th></th>\n",
       "      <th></th>\n",
       "      <th></th>\n",
       "      <th></th>\n",
       "      <th></th>\n",
       "      <th></th>\n",
       "      <th></th>\n",
       "      <th></th>\n",
       "      <th></th>\n",
       "      <th></th>\n",
       "      <th></th>\n",
       "    </tr>\n",
       "  </thead>\n",
       "  <tbody>\n",
       "    <tr>\n",
       "      <th>0</th>\n",
       "      <td>S</td>\n",
       "      <td>S</td>\n",
       "      <td>S</td>\n",
       "      <td>S</td>\n",
       "      <td>S</td>\n",
       "      <td>S</td>\n",
       "      <td>S</td>\n",
       "      <td>S</td>\n",
       "      <td>S</td>\n",
       "      <td>S</td>\n",
       "      <td>S</td>\n",
       "      <td>S</td>\n",
       "      <td>S</td>\n",
       "      <td>S</td>\n",
       "      <td>S</td>\n",
       "      <td>S</td>\n",
       "      <td>S</td>\n",
       "      <td>S</td>\n",
       "      <td>S</td>\n",
       "      <td>S</td>\n",
       "      <td>S</td>\n",
       "      <td>S</td>\n",
       "      <td>S</td>\n",
       "      <td>S</td>\n",
       "      <td>S</td>\n",
       "      <td>S</td>\n",
       "      <td>S</td>\n",
       "      <td>S</td>\n",
       "      <td>S</td>\n",
       "      <td>S</td>\n",
       "    </tr>\n",
       "    <tr>\n",
       "      <th>1</th>\n",
       "      <td>S</td>\n",
       "      <td>S</td>\n",
       "      <td>S</td>\n",
       "      <td>S</td>\n",
       "      <td>S</td>\n",
       "      <td>S</td>\n",
       "      <td>S</td>\n",
       "      <td>S</td>\n",
       "      <td>S</td>\n",
       "      <td>S</td>\n",
       "      <td>S</td>\n",
       "      <td>S</td>\n",
       "      <td>S</td>\n",
       "      <td>S</td>\n",
       "      <td>S</td>\n",
       "      <td>S</td>\n",
       "      <td>S</td>\n",
       "      <td>S</td>\n",
       "      <td>S</td>\n",
       "      <td>S</td>\n",
       "      <td>S</td>\n",
       "      <td>S</td>\n",
       "      <td>S</td>\n",
       "      <td>S</td>\n",
       "      <td>S</td>\n",
       "      <td>S</td>\n",
       "      <td>S</td>\n",
       "      <td>S</td>\n",
       "      <td>S</td>\n",
       "      <td>S</td>\n",
       "    </tr>\n",
       "  </tbody>\n",
       "</table>\n",
       "</div>"
      ],
      "text/plain": [
       "msisdn      8081090326 8130512825 8376047165 8377946756 8800594342 8800894118  \\\n",
       "check_in_hr                                                                     \n",
       "0                    S          S          S          S          S          S   \n",
       "1                    S          S          S          S          S          S   \n",
       "\n",
       "msisdn      8826390220 8860080120 9560045522 9582023942 9582261362 9599522355  \\\n",
       "check_in_hr                                                                     \n",
       "0                    S          S          S          S          S          S   \n",
       "1                    S          S          S          S          S          S   \n",
       "\n",
       "msisdn      9654981192 9711300642 9711303913 9717285978 9717627838 9810040500  \\\n",
       "check_in_hr                                                                     \n",
       "0                    S          S          S          S          S          S   \n",
       "1                    S          S          S          S          S          S   \n",
       "\n",
       "msisdn      9810403756 9810462609 9818259866 9818783881 9829086697 9910334990  \\\n",
       "check_in_hr                                                                     \n",
       "0                    S          S          S          S          S          S   \n",
       "1                    S          S          S          S          S          S   \n",
       "\n",
       "msisdn      9910526500 9953467155 9953562426 9958176146 9971430165 9971726973  \n",
       "check_in_hr                                                                    \n",
       "0                    S          S          S          S          S          S  \n",
       "1                    S          S          S          S          S          S  "
      ]
     },
     "execution_count": 71,
     "metadata": {},
     "output_type": "execute_result"
    }
   ],
   "source": [
    "df_T = weekday_pattren.iloc[:,1:25].T\n",
    "\n",
    "df_T.columns = weekday_pattren.msisdn\n",
    "df_T.head(2)"
   ]
  },
  {
   "cell_type": "code",
   "execution_count": 73,
   "metadata": {
    "scrolled": true
   },
   "outputs": [
    {
     "data": {
      "text/html": [
       "<div>\n",
       "<style scoped>\n",
       "    .dataframe tbody tr th:only-of-type {\n",
       "        vertical-align: middle;\n",
       "    }\n",
       "\n",
       "    .dataframe tbody tr th {\n",
       "        vertical-align: top;\n",
       "    }\n",
       "\n",
       "    .dataframe thead th {\n",
       "        text-align: right;\n",
       "    }\n",
       "</style>\n",
       "<table border=\"1\" class=\"dataframe\">\n",
       "  <thead>\n",
       "    <tr style=\"text-align: right;\">\n",
       "      <th></th>\n",
       "      <th>0</th>\n",
       "      <th>1</th>\n",
       "      <th>2</th>\n",
       "      <th>3</th>\n",
       "      <th>4</th>\n",
       "      <th>5</th>\n",
       "      <th>6</th>\n",
       "      <th>7</th>\n",
       "      <th>8</th>\n",
       "      <th>9</th>\n",
       "      <th>10</th>\n",
       "      <th>11</th>\n",
       "      <th>12</th>\n",
       "      <th>13</th>\n",
       "      <th>14</th>\n",
       "      <th>15</th>\n",
       "      <th>16</th>\n",
       "      <th>17</th>\n",
       "      <th>18</th>\n",
       "      <th>19</th>\n",
       "      <th>20</th>\n",
       "      <th>21</th>\n",
       "      <th>22</th>\n",
       "      <th>23</th>\n",
       "    </tr>\n",
       "    <tr>\n",
       "      <th>msisdn</th>\n",
       "      <th></th>\n",
       "      <th></th>\n",
       "      <th></th>\n",
       "      <th></th>\n",
       "      <th></th>\n",
       "      <th></th>\n",
       "      <th></th>\n",
       "      <th></th>\n",
       "      <th></th>\n",
       "      <th></th>\n",
       "      <th></th>\n",
       "      <th></th>\n",
       "      <th></th>\n",
       "      <th></th>\n",
       "      <th></th>\n",
       "      <th></th>\n",
       "      <th></th>\n",
       "      <th></th>\n",
       "      <th></th>\n",
       "      <th></th>\n",
       "      <th></th>\n",
       "      <th></th>\n",
       "      <th></th>\n",
       "      <th></th>\n",
       "    </tr>\n",
       "  </thead>\n",
       "  <tbody>\n",
       "    <tr>\n",
       "      <th>8081090326</th>\n",
       "      <td>S</td>\n",
       "      <td>S</td>\n",
       "      <td>S</td>\n",
       "      <td>S</td>\n",
       "      <td>S</td>\n",
       "      <td>S</td>\n",
       "      <td>S</td>\n",
       "      <td>S</td>\n",
       "      <td>S</td>\n",
       "      <td>S</td>\n",
       "      <td>M</td>\n",
       "      <td>M</td>\n",
       "      <td>S</td>\n",
       "      <td>M</td>\n",
       "      <td>M</td>\n",
       "      <td>S</td>\n",
       "      <td>S</td>\n",
       "      <td>M</td>\n",
       "      <td>S</td>\n",
       "      <td>M</td>\n",
       "      <td>M</td>\n",
       "      <td>M</td>\n",
       "      <td>S</td>\n",
       "      <td>S</td>\n",
       "    </tr>\n",
       "    <tr>\n",
       "      <th>8130512825</th>\n",
       "      <td>S</td>\n",
       "      <td>S</td>\n",
       "      <td>S</td>\n",
       "      <td>S</td>\n",
       "      <td>S</td>\n",
       "      <td>S</td>\n",
       "      <td>S</td>\n",
       "      <td>S</td>\n",
       "      <td>S</td>\n",
       "      <td>S</td>\n",
       "      <td>M</td>\n",
       "      <td>M</td>\n",
       "      <td>M</td>\n",
       "      <td>M</td>\n",
       "      <td>M</td>\n",
       "      <td>S</td>\n",
       "      <td>S</td>\n",
       "      <td>S</td>\n",
       "      <td>M</td>\n",
       "      <td>S</td>\n",
       "      <td>S</td>\n",
       "      <td>S</td>\n",
       "      <td>S</td>\n",
       "      <td>S</td>\n",
       "    </tr>\n",
       "    <tr>\n",
       "      <th>8376047165</th>\n",
       "      <td>S</td>\n",
       "      <td>S</td>\n",
       "      <td>S</td>\n",
       "      <td>S</td>\n",
       "      <td>S</td>\n",
       "      <td>S</td>\n",
       "      <td>S</td>\n",
       "      <td>S</td>\n",
       "      <td>S</td>\n",
       "      <td>M</td>\n",
       "      <td>S</td>\n",
       "      <td>S</td>\n",
       "      <td>M</td>\n",
       "      <td>M</td>\n",
       "      <td>S</td>\n",
       "      <td>S</td>\n",
       "      <td>M</td>\n",
       "      <td>M</td>\n",
       "      <td>M</td>\n",
       "      <td>M</td>\n",
       "      <td>M</td>\n",
       "      <td>S</td>\n",
       "      <td>S</td>\n",
       "      <td>S</td>\n",
       "    </tr>\n",
       "    <tr>\n",
       "      <th>8377946756</th>\n",
       "      <td>S</td>\n",
       "      <td>S</td>\n",
       "      <td>S</td>\n",
       "      <td>S</td>\n",
       "      <td>S</td>\n",
       "      <td>S</td>\n",
       "      <td>S</td>\n",
       "      <td>S</td>\n",
       "      <td>S</td>\n",
       "      <td>S</td>\n",
       "      <td>S</td>\n",
       "      <td>M</td>\n",
       "      <td>S</td>\n",
       "      <td>S</td>\n",
       "      <td>S</td>\n",
       "      <td>S</td>\n",
       "      <td>S</td>\n",
       "      <td>S</td>\n",
       "      <td>S</td>\n",
       "      <td>S</td>\n",
       "      <td>S</td>\n",
       "      <td>M</td>\n",
       "      <td>S</td>\n",
       "      <td>S</td>\n",
       "    </tr>\n",
       "    <tr>\n",
       "      <th>8800594342</th>\n",
       "      <td>S</td>\n",
       "      <td>S</td>\n",
       "      <td>S</td>\n",
       "      <td>S</td>\n",
       "      <td>S</td>\n",
       "      <td>S</td>\n",
       "      <td>S</td>\n",
       "      <td>S</td>\n",
       "      <td>S</td>\n",
       "      <td>M</td>\n",
       "      <td>S</td>\n",
       "      <td>S</td>\n",
       "      <td>S</td>\n",
       "      <td>S</td>\n",
       "      <td>S</td>\n",
       "      <td>M</td>\n",
       "      <td>S</td>\n",
       "      <td>S</td>\n",
       "      <td>S</td>\n",
       "      <td>S</td>\n",
       "      <td>S</td>\n",
       "      <td>S</td>\n",
       "      <td>S</td>\n",
       "      <td>S</td>\n",
       "    </tr>\n",
       "  </tbody>\n",
       "</table>\n",
       "</div>"
      ],
      "text/plain": [
       "           0  1  2  3  4  5  6  7  8  9  10 11 12 13 14 15 16 17 18 19 20 21  \\\n",
       "msisdn                                                                         \n",
       "8081090326  S  S  S  S  S  S  S  S  S  S  M  M  S  M  M  S  S  M  S  M  M  M   \n",
       "8130512825  S  S  S  S  S  S  S  S  S  S  M  M  M  M  M  S  S  S  M  S  S  S   \n",
       "8376047165  S  S  S  S  S  S  S  S  S  M  S  S  M  M  S  S  M  M  M  M  M  S   \n",
       "8377946756  S  S  S  S  S  S  S  S  S  S  S  M  S  S  S  S  S  S  S  S  S  M   \n",
       "8800594342  S  S  S  S  S  S  S  S  S  M  S  S  S  S  S  M  S  S  S  S  S  S   \n",
       "\n",
       "           22 23  \n",
       "msisdn            \n",
       "8081090326  S  S  \n",
       "8130512825  S  S  \n",
       "8376047165  S  S  \n",
       "8377946756  S  S  \n",
       "8800594342  S  S  "
      ]
     },
     "execution_count": 73,
     "metadata": {},
     "output_type": "execute_result"
    }
   ],
   "source": [
    "# To convert S to H where no M exists\n",
    "\n",
    "pattern_array = df_T.to_numpy()\n",
    "for i in range(weekday_pattren.msisdn.nunique()):\n",
    "    if pattern_array[:,i].tolist().count('M')<=1:\n",
    "        pattern_array[:,i]='H'\n",
    "\n",
    "df_T_0 = pd.DataFrame(pattern_array, columns = df_T.columns)\n",
    "df_T_0.T.head()"
   ]
  },
  {
   "cell_type": "markdown",
   "metadata": {},
   "source": [
    "## Convert S into M if S is between two M\n",
    "### can be tunable"
   ]
  },
  {
   "cell_type": "code",
   "execution_count": 74,
   "metadata": {
    "scrolled": false
   },
   "outputs": [
    {
     "data": {
      "text/html": [
       "<div>\n",
       "<style scoped>\n",
       "    .dataframe tbody tr th:only-of-type {\n",
       "        vertical-align: middle;\n",
       "    }\n",
       "\n",
       "    .dataframe tbody tr th {\n",
       "        vertical-align: top;\n",
       "    }\n",
       "\n",
       "    .dataframe thead th {\n",
       "        text-align: right;\n",
       "    }\n",
       "</style>\n",
       "<table border=\"1\" class=\"dataframe\">\n",
       "  <thead>\n",
       "    <tr style=\"text-align: right;\">\n",
       "      <th></th>\n",
       "      <th>0</th>\n",
       "      <th>1</th>\n",
       "      <th>2</th>\n",
       "      <th>3</th>\n",
       "      <th>4</th>\n",
       "      <th>5</th>\n",
       "      <th>6</th>\n",
       "      <th>7</th>\n",
       "      <th>8</th>\n",
       "      <th>9</th>\n",
       "      <th>10</th>\n",
       "      <th>11</th>\n",
       "      <th>12</th>\n",
       "      <th>13</th>\n",
       "      <th>14</th>\n",
       "      <th>15</th>\n",
       "      <th>16</th>\n",
       "      <th>17</th>\n",
       "      <th>18</th>\n",
       "      <th>19</th>\n",
       "      <th>20</th>\n",
       "      <th>21</th>\n",
       "      <th>22</th>\n",
       "      <th>23</th>\n",
       "    </tr>\n",
       "    <tr>\n",
       "      <th>msisdn</th>\n",
       "      <th></th>\n",
       "      <th></th>\n",
       "      <th></th>\n",
       "      <th></th>\n",
       "      <th></th>\n",
       "      <th></th>\n",
       "      <th></th>\n",
       "      <th></th>\n",
       "      <th></th>\n",
       "      <th></th>\n",
       "      <th></th>\n",
       "      <th></th>\n",
       "      <th></th>\n",
       "      <th></th>\n",
       "      <th></th>\n",
       "      <th></th>\n",
       "      <th></th>\n",
       "      <th></th>\n",
       "      <th></th>\n",
       "      <th></th>\n",
       "      <th></th>\n",
       "      <th></th>\n",
       "      <th></th>\n",
       "      <th></th>\n",
       "    </tr>\n",
       "  </thead>\n",
       "  <tbody>\n",
       "    <tr>\n",
       "      <th>8081090326</th>\n",
       "      <td>S</td>\n",
       "      <td>S</td>\n",
       "      <td>S</td>\n",
       "      <td>S</td>\n",
       "      <td>S</td>\n",
       "      <td>S</td>\n",
       "      <td>S</td>\n",
       "      <td>S</td>\n",
       "      <td>S</td>\n",
       "      <td>S</td>\n",
       "      <td>M</td>\n",
       "      <td>M</td>\n",
       "      <td>M</td>\n",
       "      <td>M</td>\n",
       "      <td>M</td>\n",
       "      <td>S</td>\n",
       "      <td>S</td>\n",
       "      <td>M</td>\n",
       "      <td>M</td>\n",
       "      <td>M</td>\n",
       "      <td>M</td>\n",
       "      <td>M</td>\n",
       "      <td>S</td>\n",
       "      <td>S</td>\n",
       "    </tr>\n",
       "  </tbody>\n",
       "</table>\n",
       "</div>"
      ],
      "text/plain": [
       "           0  1  2  3  4  5  6  7  8  9  10 11 12 13 14 15 16 17 18 19 20 21  \\\n",
       "msisdn                                                                         \n",
       "8081090326  S  S  S  S  S  S  S  S  S  S  M  M  M  M  M  S  S  M  M  M  M  M   \n",
       "\n",
       "           22 23  \n",
       "msisdn            \n",
       "8081090326  S  S  "
      ]
     },
     "execution_count": 74,
     "metadata": {},
     "output_type": "execute_result"
    }
   ],
   "source": [
    "# Convert S into M if S is between two Ms\n",
    "\n",
    "for user in range(weekday_pattren.msisdn.nunique()):\n",
    "    for hr in range(22):\n",
    "        if ((df_T_0.iloc[hr,user]=='M') & (df_T_0.iloc[hr+2,user]=='M')):\n",
    "            df_T_0.iloc[hr+1,user]='M'\n",
    "            \n",
    "df_T_0.T.head(1)"
   ]
  },
  {
   "cell_type": "markdown",
   "metadata": {},
   "source": [
    "# Convert S into W when S is between two M\n",
    "### tunable to optimize Work Location "
   ]
  },
  {
   "cell_type": "code",
   "execution_count": 75,
   "metadata": {
    "scrolled": true
   },
   "outputs": [
    {
     "name": "stdout",
     "output_type": "stream",
     "text": [
      "29 10 21\n",
      "29 10 18\n",
      "29 9 20\n",
      "29 11 21\n",
      "29 9 15\n",
      "29 10 11\n",
      "29 0 0\n",
      "29 0 0\n",
      "29 12 18\n",
      "29 11 22\n",
      "29 9 19\n",
      "29 0 0\n",
      "29 11 20\n",
      "29 8 20\n",
      "29 9 19\n",
      "29 10 21\n",
      "29 10 19\n",
      "29 9 20\n",
      "29 0 0\n",
      "29 0 0\n",
      "29 9 21\n",
      "29 9 20\n",
      "29 10 17\n",
      "29 11 21\n",
      "29 9 14\n",
      "29 9 23\n",
      "29 0 0\n",
      "29 11 12\n",
      "29 4 18\n",
      "29 11 15\n"
     ]
    },
    {
     "data": {
      "text/html": [
       "<div>\n",
       "<style scoped>\n",
       "    .dataframe tbody tr th:only-of-type {\n",
       "        vertical-align: middle;\n",
       "    }\n",
       "\n",
       "    .dataframe tbody tr th {\n",
       "        vertical-align: top;\n",
       "    }\n",
       "\n",
       "    .dataframe thead th {\n",
       "        text-align: right;\n",
       "    }\n",
       "</style>\n",
       "<table border=\"1\" class=\"dataframe\">\n",
       "  <thead>\n",
       "    <tr style=\"text-align: right;\">\n",
       "      <th></th>\n",
       "      <th>0</th>\n",
       "      <th>1</th>\n",
       "      <th>2</th>\n",
       "      <th>3</th>\n",
       "      <th>4</th>\n",
       "      <th>5</th>\n",
       "      <th>6</th>\n",
       "      <th>7</th>\n",
       "      <th>8</th>\n",
       "      <th>9</th>\n",
       "      <th>10</th>\n",
       "      <th>11</th>\n",
       "      <th>12</th>\n",
       "      <th>13</th>\n",
       "      <th>14</th>\n",
       "      <th>15</th>\n",
       "      <th>16</th>\n",
       "      <th>17</th>\n",
       "      <th>18</th>\n",
       "      <th>19</th>\n",
       "      <th>20</th>\n",
       "      <th>21</th>\n",
       "      <th>22</th>\n",
       "      <th>23</th>\n",
       "    </tr>\n",
       "    <tr>\n",
       "      <th>msisdn</th>\n",
       "      <th></th>\n",
       "      <th></th>\n",
       "      <th></th>\n",
       "      <th></th>\n",
       "      <th></th>\n",
       "      <th></th>\n",
       "      <th></th>\n",
       "      <th></th>\n",
       "      <th></th>\n",
       "      <th></th>\n",
       "      <th></th>\n",
       "      <th></th>\n",
       "      <th></th>\n",
       "      <th></th>\n",
       "      <th></th>\n",
       "      <th></th>\n",
       "      <th></th>\n",
       "      <th></th>\n",
       "      <th></th>\n",
       "      <th></th>\n",
       "      <th></th>\n",
       "      <th></th>\n",
       "      <th></th>\n",
       "      <th></th>\n",
       "    </tr>\n",
       "  </thead>\n",
       "  <tbody>\n",
       "    <tr>\n",
       "      <th>8081090326</th>\n",
       "      <td>S</td>\n",
       "      <td>S</td>\n",
       "      <td>S</td>\n",
       "      <td>S</td>\n",
       "      <td>S</td>\n",
       "      <td>S</td>\n",
       "      <td>S</td>\n",
       "      <td>S</td>\n",
       "      <td>S</td>\n",
       "      <td>S</td>\n",
       "      <td>M</td>\n",
       "      <td>M</td>\n",
       "      <td>M</td>\n",
       "      <td>M</td>\n",
       "      <td>M</td>\n",
       "      <td>W</td>\n",
       "      <td>W</td>\n",
       "      <td>M</td>\n",
       "      <td>M</td>\n",
       "      <td>M</td>\n",
       "      <td>M</td>\n",
       "      <td>M</td>\n",
       "      <td>S</td>\n",
       "      <td>S</td>\n",
       "    </tr>\n",
       "    <tr>\n",
       "      <th>8130512825</th>\n",
       "      <td>S</td>\n",
       "      <td>S</td>\n",
       "      <td>S</td>\n",
       "      <td>S</td>\n",
       "      <td>S</td>\n",
       "      <td>S</td>\n",
       "      <td>S</td>\n",
       "      <td>S</td>\n",
       "      <td>S</td>\n",
       "      <td>S</td>\n",
       "      <td>M</td>\n",
       "      <td>M</td>\n",
       "      <td>M</td>\n",
       "      <td>M</td>\n",
       "      <td>M</td>\n",
       "      <td>W</td>\n",
       "      <td>W</td>\n",
       "      <td>W</td>\n",
       "      <td>M</td>\n",
       "      <td>S</td>\n",
       "      <td>S</td>\n",
       "      <td>S</td>\n",
       "      <td>S</td>\n",
       "      <td>S</td>\n",
       "    </tr>\n",
       "    <tr>\n",
       "      <th>8376047165</th>\n",
       "      <td>S</td>\n",
       "      <td>S</td>\n",
       "      <td>S</td>\n",
       "      <td>S</td>\n",
       "      <td>S</td>\n",
       "      <td>S</td>\n",
       "      <td>S</td>\n",
       "      <td>S</td>\n",
       "      <td>S</td>\n",
       "      <td>M</td>\n",
       "      <td>W</td>\n",
       "      <td>W</td>\n",
       "      <td>M</td>\n",
       "      <td>M</td>\n",
       "      <td>W</td>\n",
       "      <td>W</td>\n",
       "      <td>M</td>\n",
       "      <td>M</td>\n",
       "      <td>M</td>\n",
       "      <td>M</td>\n",
       "      <td>M</td>\n",
       "      <td>S</td>\n",
       "      <td>S</td>\n",
       "      <td>S</td>\n",
       "    </tr>\n",
       "    <tr>\n",
       "      <th>8377946756</th>\n",
       "      <td>S</td>\n",
       "      <td>S</td>\n",
       "      <td>S</td>\n",
       "      <td>S</td>\n",
       "      <td>S</td>\n",
       "      <td>S</td>\n",
       "      <td>S</td>\n",
       "      <td>S</td>\n",
       "      <td>S</td>\n",
       "      <td>S</td>\n",
       "      <td>S</td>\n",
       "      <td>M</td>\n",
       "      <td>W</td>\n",
       "      <td>W</td>\n",
       "      <td>W</td>\n",
       "      <td>W</td>\n",
       "      <td>W</td>\n",
       "      <td>W</td>\n",
       "      <td>W</td>\n",
       "      <td>W</td>\n",
       "      <td>W</td>\n",
       "      <td>M</td>\n",
       "      <td>S</td>\n",
       "      <td>S</td>\n",
       "    </tr>\n",
       "    <tr>\n",
       "      <th>8800594342</th>\n",
       "      <td>S</td>\n",
       "      <td>S</td>\n",
       "      <td>S</td>\n",
       "      <td>S</td>\n",
       "      <td>S</td>\n",
       "      <td>S</td>\n",
       "      <td>S</td>\n",
       "      <td>S</td>\n",
       "      <td>S</td>\n",
       "      <td>M</td>\n",
       "      <td>W</td>\n",
       "      <td>W</td>\n",
       "      <td>W</td>\n",
       "      <td>W</td>\n",
       "      <td>W</td>\n",
       "      <td>M</td>\n",
       "      <td>S</td>\n",
       "      <td>S</td>\n",
       "      <td>S</td>\n",
       "      <td>S</td>\n",
       "      <td>S</td>\n",
       "      <td>S</td>\n",
       "      <td>S</td>\n",
       "      <td>S</td>\n",
       "    </tr>\n",
       "  </tbody>\n",
       "</table>\n",
       "</div>"
      ],
      "text/plain": [
       "           0  1  2  3  4  5  6  7  8  9  10 11 12 13 14 15 16 17 18 19 20 21  \\\n",
       "msisdn                                                                         \n",
       "8081090326  S  S  S  S  S  S  S  S  S  S  M  M  M  M  M  W  W  M  M  M  M  M   \n",
       "8130512825  S  S  S  S  S  S  S  S  S  S  M  M  M  M  M  W  W  W  M  S  S  S   \n",
       "8376047165  S  S  S  S  S  S  S  S  S  M  W  W  M  M  W  W  M  M  M  M  M  S   \n",
       "8377946756  S  S  S  S  S  S  S  S  S  S  S  M  W  W  W  W  W  W  W  W  W  M   \n",
       "8800594342  S  S  S  S  S  S  S  S  S  M  W  W  W  W  W  M  S  S  S  S  S  S   \n",
       "\n",
       "           22 23  \n",
       "msisdn            \n",
       "8081090326  S  S  \n",
       "8130512825  S  S  \n",
       "8376047165  S  S  \n",
       "8377946756  S  S  \n",
       "8800594342  S  S  "
      ]
     },
     "execution_count": 75,
     "metadata": {},
     "output_type": "execute_result"
    }
   ],
   "source": [
    "# Convert S into W when S is between two Ms within 7AM to \n",
    "\n",
    "for user in range(weekday_pattren.msisdn.nunique()):\n",
    "\n",
    "    first_instance = df_T_0.iloc[:,user].where(df_T_0.iloc[:,user].values=='M').first_valid_index() or 0\n",
    "\n",
    "\n",
    "    last_instance = df_T_0.iloc[:,user].where(df_T_0.iloc[:,user].values=='M').last_valid_index() or 0\n",
    "\n",
    "    print(i,first_instance,last_instance)\n",
    "\n",
    "    diff = last_instance-first_instance\n",
    "\n",
    "    #if diff>=5:\n",
    "    df_T_0.iloc[first_instance:last_instance,user] = np.where((df_T_0.iloc[first_instance:last_instance,user]=='S'),'W', \n",
    "                                                              df_T_0.iloc[first_instance:last_instance,user])\n",
    "\n",
    "df_T_0.T.head()"
   ]
  },
  {
   "cell_type": "code",
   "execution_count": 76,
   "metadata": {},
   "outputs": [],
   "source": [
    "df_T_fin = df_T_0.replace('S', 'H')\n",
    "\n",
    "final_result=df_T_fin.T.reset_index()"
   ]
  },
  {
   "cell_type": "code",
   "execution_count": 78,
   "metadata": {},
   "outputs": [],
   "source": [
    "final_result.to_csv(r\"D:\\Telenor_GP_BAN\\Codes_output\\final_result_on_20_percemtile_set2.csv\",index=False)"
   ]
  },
  {
   "cell_type": "code",
   "execution_count": 79,
   "metadata": {},
   "outputs": [],
   "source": [
    "pattern = final_result.melt(id_vars=[\"msisdn\"], \n",
    "         var_name=\"check_in_hr\", \n",
    "         value_name=\"tag\")"
   ]
  },
  {
   "cell_type": "code",
   "execution_count": 80,
   "metadata": {},
   "outputs": [
    {
     "data": {
      "text/plain": [
       "Index(['msisdn', 'bin_hr_dumy', 'call_start_time',\n",
       "       'call_identification_number', 'Lat_First_CI_tech', 'Lon_First_CI_tech',\n",
       "       'day_dumy', 'check_in_hr', 'check_in_min', 'check_in_date'],\n",
       "      dtype='object')"
      ]
     },
     "execution_count": 80,
     "metadata": {},
     "output_type": "execute_result"
    }
   ],
   "source": [
    "imputed_data_final1.columns"
   ]
  },
  {
   "cell_type": "code",
   "execution_count": 81,
   "metadata": {},
   "outputs": [],
   "source": [
    "df=pd.merge(imputed_data_final1,pattern,on=[\"msisdn\",'check_in_hr'],how='left')\n",
    "\n",
    "df[\"lat_Long\"]=df['Lat_First_CI_tech'].astype(str)+\"_\"+df['Lon_First_CI_tech'].astype(str)"
   ]
  },
  {
   "cell_type": "code",
   "execution_count": 85,
   "metadata": {},
   "outputs": [
    {
     "data": {
      "text/plain": [
       "H    15770\n",
       "M     7678\n",
       "W     3721\n",
       "Name: tag, dtype: int64"
      ]
     },
     "execution_count": 85,
     "metadata": {},
     "output_type": "execute_result"
    }
   ],
   "source": [
    "df.tag.value_counts()"
   ]
  },
  {
   "cell_type": "markdown",
   "metadata": {},
   "source": [
    "## No of  Top Lat-Long of User to choose H/W location\n",
    "### it is tunable "
   ]
  },
  {
   "cell_type": "code",
   "execution_count": 86,
   "metadata": {},
   "outputs": [],
   "source": [
    "a=df.msisdn.unique()\n",
    "result=pd.DataFrame()\n",
    "for i in a:\n",
    "    df1=df[df['msisdn']==i]\n",
    "    df2=df1.groupby(['msisdn','lat_Long','tag']).size().unstack(-1).reset_index()\n",
    "    #df2=df1.pivot_table(index=['lat_Long'], columns=['tag'], values=['tag']).reset_index()\n",
    "    dfH=df2.sort_values(['H'],ascending=[False]).head(2)\n",
    "    dfH['tag']='Home'\n",
    "    try:\n",
    "        dfW=df2.sort_values(['W'],ascending=[False]).head(2)\n",
    "        dfW['tag']='Work'\n",
    "    except:\n",
    "        pass\n",
    "    try:  \n",
    "        dfM=df2.sort_values(['M'],ascending=[False]).head(2)\n",
    "        dfM['tag']='Mobile'\n",
    "    except:\n",
    "        pass\n",
    "    result=pd.concat([result,dfH,dfW,dfM],axis=0)"
   ]
  },
  {
   "cell_type": "code",
   "execution_count": 87,
   "metadata": {},
   "outputs": [],
   "source": [
    "result.to_csv(r\"D:\\Telenor_GP_BAN\\Codes_output\\user_home&Work_lat_long_set2.csv\",index=False)"
   ]
  },
  {
   "cell_type": "code",
   "execution_count": 88,
   "metadata": {},
   "outputs": [],
   "source": [
    "df.to_csv(r\"D:\\Telenor_GP_BAN\\Codes_output\\result_for_address_mapping_set2.csv\",index=False)"
   ]
  },
  {
   "cell_type": "markdown",
   "metadata": {},
   "source": [
    "### LWP clean-up"
   ]
  },
  {
   "cell_type": "code",
   "execution_count": 256,
   "metadata": {},
   "outputs": [
    {
     "data": {
      "text/html": [
       "<div>\n",
       "<style scoped>\n",
       "    .dataframe tbody tr th:only-of-type {\n",
       "        vertical-align: middle;\n",
       "    }\n",
       "\n",
       "    .dataframe tbody tr th {\n",
       "        vertical-align: top;\n",
       "    }\n",
       "\n",
       "    .dataframe thead th {\n",
       "        text-align: right;\n",
       "    }\n",
       "</style>\n",
       "<table border=\"1\" class=\"dataframe\">\n",
       "  <thead>\n",
       "    <tr style=\"text-align: right;\">\n",
       "      <th></th>\n",
       "      <th>msisdn</th>\n",
       "      <th>Lat_First_CI_tech</th>\n",
       "      <th>Lon_First_CI_tech</th>\n",
       "      <th>tag</th>\n",
       "      <th>hour_count</th>\n",
       "      <th>unique_days</th>\n",
       "      <th>days_sq</th>\n",
       "      <th>factor</th>\n",
       "      <th>Rank</th>\n",
       "    </tr>\n",
       "  </thead>\n",
       "  <tbody>\n",
       "    <tr>\n",
       "      <th>724</th>\n",
       "      <td>9654981192</td>\n",
       "      <td>28.58</td>\n",
       "      <td>77.30</td>\n",
       "      <td>M</td>\n",
       "      <td>35.00</td>\n",
       "      <td>11.00</td>\n",
       "      <td>121.00</td>\n",
       "      <td>4,235.00</td>\n",
       "      <td>1.00</td>\n",
       "    </tr>\n",
       "    <tr>\n",
       "      <th>196</th>\n",
       "      <td>8376047165</td>\n",
       "      <td>28.55</td>\n",
       "      <td>77.23</td>\n",
       "      <td>H</td>\n",
       "      <td>247.00</td>\n",
       "      <td>11.00</td>\n",
       "      <td>121.00</td>\n",
       "      <td>29,887.00</td>\n",
       "      <td>1.00</td>\n",
       "    </tr>\n",
       "    <tr>\n",
       "      <th>1669</th>\n",
       "      <td>9953467155</td>\n",
       "      <td>28.41</td>\n",
       "      <td>77.36</td>\n",
       "      <td>H</td>\n",
       "      <td>140.00</td>\n",
       "      <td>12.00</td>\n",
       "      <td>144.00</td>\n",
       "      <td>20,160.00</td>\n",
       "      <td>1.00</td>\n",
       "    </tr>\n",
       "    <tr>\n",
       "      <th>854</th>\n",
       "      <td>9711303913</td>\n",
       "      <td>28.57</td>\n",
       "      <td>77.19</td>\n",
       "      <td>M</td>\n",
       "      <td>124.00</td>\n",
       "      <td>14.00</td>\n",
       "      <td>196.00</td>\n",
       "      <td>24,304.00</td>\n",
       "      <td>1.00</td>\n",
       "    </tr>\n",
       "    <tr>\n",
       "      <th>333</th>\n",
       "      <td>8800594342</td>\n",
       "      <td>28.58</td>\n",
       "      <td>77.05</td>\n",
       "      <td>M</td>\n",
       "      <td>43.00</td>\n",
       "      <td>10.00</td>\n",
       "      <td>100.00</td>\n",
       "      <td>4,300.00</td>\n",
       "      <td>1.00</td>\n",
       "    </tr>\n",
       "  </tbody>\n",
       "</table>\n",
       "</div>"
      ],
      "text/plain": [
       "          msisdn  Lat_First_CI_tech  Lon_First_CI_tech tag  hour_count  \\\n",
       "724   9654981192              28.58              77.30   M       35.00   \n",
       "196   8376047165              28.55              77.23   H      247.00   \n",
       "1669  9953467155              28.41              77.36   H      140.00   \n",
       "854   9711303913              28.57              77.19   M      124.00   \n",
       "333   8800594342              28.58              77.05   M       43.00   \n",
       "\n",
       "      unique_days  days_sq    factor  Rank  \n",
       "724         11.00   121.00  4,235.00  1.00  \n",
       "196         11.00   121.00 29,887.00  1.00  \n",
       "1669        12.00   144.00 20,160.00  1.00  \n",
       "854         14.00   196.00 24,304.00  1.00  \n",
       "333         10.00   100.00  4,300.00  1.00  "
      ]
     },
     "execution_count": 256,
     "metadata": {},
     "output_type": "execute_result"
    }
   ],
   "source": [
    "df_factor =  df.groupby(['msisdn',\"Lat_First_CI_tech\",'Lon_First_CI_tech', 'tag']).agg(hour_count=('check_in_hr','count'),\n",
    "                                                    unique_days=('check_in_date','nunique')).reset_index(drop=False)\n",
    "\n",
    "df_factor['unique_days'] = df_factor['unique_days'].apply(lambda x: float(x))\n",
    "df_factor['hour_count'] = df_factor['hour_count'].apply(lambda x: float(x))\n",
    "\n",
    "df_factor['days_sq'] = df_factor['unique_days']**2\n",
    "df_factor['factor'] = df_factor['days_sq'] * df_factor['hour_count']\n",
    "\n",
    "df_factor[\"Rank\"] = df_factor.groupby(['msisdn','tag'])[\"factor\"].rank(\"dense\", ascending=False)\n",
    "df_factor.sort_values(\"Rank\", inplace = True) \n",
    "df_factor.head()"
   ]
  },
  {
   "cell_type": "code",
   "execution_count": 257,
   "metadata": {},
   "outputs": [],
   "source": [
    "df_top6 = df_factor[(df_factor['Rank'].isin([1,2,3,4,5,6]))]\n",
    "\n",
    "df_Home = df_top5[(df_top5['tag']== 'H')]\n",
    "df_Work = df_top5[(df_top5['tag']== 'W')]\n",
    "df_Mobile = df_top5[(df_top5['tag']== 'M')]\n",
    "\n",
    "df_top6.sort_values(['msisdn',\"Rank\"], inplace = True)\n",
    "\n",
    "df_first_H= df_top6[(df_top6['Rank']== 1) & (df_top6['tag']== 'H')]\n",
    "\n",
    "\n",
    "df_first_H.rename(columns = {'Lat_First_CI_tech':'Lat_first_H','Lon_First_CI_tech':'Long_first_H'}, inplace = True) \n",
    " \n",
    "\n",
    "df_merged_T6= pd.merge(df_top6,df_first_H[['msisdn','Lat_first_H','Long_first_H']], how='left',\n",
    "               left_on=['msisdn'],right_on=['msisdn'])"
   ]
  },
  {
   "cell_type": "code",
   "execution_count": 258,
   "metadata": {},
   "outputs": [],
   "source": [
    "import math\n",
    "from math import sin, cos, sqrt, atan2, radians\n",
    "\n",
    "def deg_to_rad(dr):\n",
    "    return (dr*math.pi)/180\n",
    "\n",
    "# approximate radius of earth in km\n",
    "R = 6373.0"
   ]
  },
  {
   "cell_type": "code",
   "execution_count": 259,
   "metadata": {},
   "outputs": [],
   "source": [
    "#distance Calculation from H1 to all H1-H6, M1-M6 & W1-W6\n",
    "df_merged_T6['lat1'] = deg_to_rad(df_merged_T6['Lat_First_CI_tech'])\n",
    "df_merged_T6['long1'] = deg_to_rad(df_merged_T6['Lon_First_CI_tech'])\n",
    "df_merged_T6['lat2'] = deg_to_rad(df_merged_T6['Lat_first_H'])\n",
    "df_merged_T6['long2'] = deg_to_rad(df_merged_T6['Long_first_H'])\n",
    "\n",
    "df_merged_T6['dlong'] = df_merged_T6['long2'] - df_merged_T6['long1']\n",
    "df_merged_T6['dlat'] = df_merged_T6['lat2'] - df_merged_T6['lat1']\n",
    "\n",
    "df_merged_T6['a'] = np.sin(df_merged_T6['dlat'] / 2)**2 + np.cos(df_merged_T6['lat1']) * np.cos(df_merged_T6['lat2']) * np.sin(df_merged_T6['dlong'] / 2)**2\n",
    "\n",
    "df_merged_T6['c'] = 2 * np.arctan2(np.sqrt(df_merged_T6['a']), np.sqrt(1 - df_merged_T6['a']))\n",
    "\n",
    "df_merged_T6['distance_H1'] = R * df_merged_T6['c']"
   ]
  },
  {
   "cell_type": "code",
   "execution_count": 260,
   "metadata": {},
   "outputs": [],
   "source": [
    "# dist_check parameter can be tune to change the tag\n",
    "dist_check = 3\n",
    "df_merged_T6['New_tag'] = ' '\n",
    "df_merged_T6.loc[(df_merged_T6['distance_H1'] < dist_check), 'New_tag'] = 'Home'\n",
    "#df_merged_T6.loc[(df_Home['intra_work_dist'] == 0) & (df_Home['tag_y'] == 'W'), 'new_tag'] = 'Work'\n",
    "\n",
    "df_HOME = df_merged_T6[(df_merged_T6['New_tag'] == 'Home')]\n",
    "df_remaining_t6 = df_merged_T6[(df_merged_T6['New_tag'] != 'Home')]\n",
    "\n",
    "df_remaining_t6[\"New_Rank\"] = df_remaining_t6.groupby(['msisdn','tag'])[\"factor\"].rank(\"dense\", ascending=False)\n",
    "df_remaining_t6.sort_values(\"New_Rank\", inplace = True) \n",
    "\n",
    "df_first_W= df_remaining_t6[(df_remaining_t6['New_Rank']== 1) & (df_remaining_t6['tag']== 'W')]\n",
    "\n",
    "df_first_W.rename(columns = {'Lat_First_CI_tech':'Lat_first_W','Lon_First_CI_tech':'Long_first_W'}, inplace = True)\n",
    "\n",
    "df_remaining_t6.drop(['lat1','long1','lat2','long2','dlong','dlat','a','c'], axis=1, inplace= True)\n",
    "\n",
    "df_remaining_t6= pd.merge(df_remaining_t6,df_first_W[['msisdn','Lat_first_W','Long_first_W']], how='left',\n",
    "               left_on=['msisdn'],right_on=['msisdn'])"
   ]
  },
  {
   "cell_type": "code",
   "execution_count": 261,
   "metadata": {},
   "outputs": [],
   "source": [
    "#distance Calculation from H1 to all H1-H6, M1-M6 & W1-W6\n",
    "df_remaining_t6['lat1'] = deg_to_rad(df_remaining_t6['Lat_First_CI_tech'])\n",
    "df_remaining_t6['long1'] = deg_to_rad(df_remaining_t6['Lon_First_CI_tech'])\n",
    "df_remaining_t6['lat2'] = deg_to_rad(df_remaining_t6['Lat_first_W'])\n",
    "df_remaining_t6['long2'] = deg_to_rad(df_remaining_t6['Long_first_W'])\n",
    "\n",
    "df_remaining_t6['dlong'] = df_remaining_t6['long2'] - df_remaining_t6['long1']\n",
    "df_remaining_t6['dlat'] = df_remaining_t6['lat2'] - df_remaining_t6['lat1']\n",
    "\n",
    "df_remaining_t6['a'] = np.sin(df_remaining_t6['dlat'] / 2)**2 + np.cos(df_remaining_t6['lat1']) * np.cos(df_remaining_t6['lat2']) * np.sin(df_remaining_t6['dlong'] / 2)**2\n",
    "\n",
    "df_remaining_t6['c'] = 2 * np.arctan2(np.sqrt(df_remaining_t6['a']), np.sqrt(1 - df_remaining_t6['a']))\n",
    "\n",
    "df_remaining_t6['distance_W1'] = R * df_remaining_t6['c']"
   ]
  },
  {
   "cell_type": "code",
   "execution_count": 262,
   "metadata": {},
   "outputs": [],
   "source": [
    "# dist_check parameter can be tune to change the tag\n",
    "dist_check = 3\n",
    "df_remaining_t6.loc[(df_remaining_t6['distance_W1'] < dist_check), 'New_tag'] = 'Work'\n",
    "\n",
    "df_remaining_t6.loc[(df_remaining_t6['New_tag'] == ' '), 'New_tag'] = 'Mobile'\n",
    "\n",
    "df_temp1 = pd.concat([df_HOME,df_remaining_t6], ignore_index=True, sort=False)\n",
    "\n",
    "df_LWP_master = df_temp1[['msisdn','Lat_First_CI_tech','Lon_First_CI_tech','tag','factor','Rank','distance_H1','distance_W1','New_Rank','New_tag']]"
   ]
  },
  {
   "cell_type": "code",
   "execution_count": 263,
   "metadata": {},
   "outputs": [],
   "source": [
    "df_LWP_master.to_csv(r\"D:\\Telenor_GP_BAN\\Codes_output\\updated_Master_LWP_sheet.csv\",index=False)"
   ]
  },
  {
   "cell_type": "code",
   "execution_count": null,
   "metadata": {},
   "outputs": [],
   "source": []
  },
  {
   "cell_type": "code",
   "execution_count": null,
   "metadata": {},
   "outputs": [],
   "source": []
  },
  {
   "cell_type": "code",
   "execution_count": null,
   "metadata": {},
   "outputs": [],
   "source": []
  },
  {
   "cell_type": "code",
   "execution_count": null,
   "metadata": {},
   "outputs": [],
   "source": []
  },
  {
   "cell_type": "code",
   "execution_count": null,
   "metadata": {},
   "outputs": [],
   "source": []
  },
  {
   "cell_type": "code",
   "execution_count": null,
   "metadata": {},
   "outputs": [],
   "source": []
  }
 ],
 "metadata": {
  "kernelspec": {
   "display_name": "Python 3",
   "language": "python",
   "name": "python3"
  },
  "language_info": {
   "codemirror_mode": {
    "name": "ipython",
    "version": 3
   },
   "file_extension": ".py",
   "mimetype": "text/x-python",
   "name": "python",
   "nbconvert_exporter": "python",
   "pygments_lexer": "ipython3",
   "version": "3.8.5"
  }
 },
 "nbformat": 4,
 "nbformat_minor": 4
}
